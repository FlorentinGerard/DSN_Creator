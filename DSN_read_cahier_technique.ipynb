{
 "cells": [
  {
   "cell_type": "code",
   "execution_count": 1,
   "metadata": {},
   "outputs": [],
   "source": [
    "import numpy as np\n",
    "import pandas as pd\n",
    "import os\n",
    "import glob"
   ]
  },
  {
   "cell_type": "code",
   "execution_count": 2,
   "metadata": {},
   "outputs": [
    {
     "name": "stdout",
     "output_type": "stream",
     "text": [
      "Available files in ./doc/:\n",
      "    dsn_cahier_technique_p3_2019.1.2.pdf\n",
      "    dsn_cahier_technique_p3_2019.1.2.xlsx\n",
      "\n",
      "Excel file found:\n",
      "    ./doc\\dsn_cahier_technique_p3_2019.1.2.xlsx\n",
      "\n",
      "Standard          [Index(['DSN'], dtype='object')]\n",
      "Header            [Index(['Element', 'Id', 'Name', 'Description', 'Comment'], dtype='object')]\n",
      "Data Types        [Index(['Id', 'Nature', 'Regexp', 'Lg Min', 'Lg Max', 'Values'], dtype='object')]\n",
      "Blocks            [Index(['Id', 'Name', 'Description', 'ParentId', 'lowerBound', 'upperBound'], dtype='object')]\n",
      "Fields            [Index(['Block Id', 'Id', 'Name', 'Description', 'DataType Id', 'Comment'], dtype='object')]\n",
      "Messages          [Index(['Name', 'Description', 'Message'], dtype='object')]\n"
     ]
    }
   ],
   "source": [
    "doc_folder = './doc/'\n",
    "dsn_cahier_technique = 'dsn_cahier_technique'\n",
    "excel_extension = '.xlsx'\n",
    "\n",
    "print(f'Available files in {doc_folder}:')\n",
    "for file_name in [fn for fn in os.listdir(doc_folder) if not fn.startswith('.')]:\n",
    "    print('   ', file_name)\n",
    "\n",
    "dsn_excel = glob.glob(doc_folder+dsn_cahier_technique+'*'+excel_extension)\n",
    "assert len(dsn_excel) != 0, f'No excel file containing \"{dsn_cahier_technique}\" found in \"{doc_folder}\" folder'\n",
    "assert len(dsn_excel) < 2, f'More than one excel file containing \"{dsn_cahier_technique}\" found in \"{doc_folder}\" folder'\n",
    "\n",
    "dsn_excel = dsn_excel[0]\n",
    "print('\\nExcel file found:')\n",
    "print('   ', dsn_excel, end='\\n\\n')\n",
    "\n",
    "dsn_dfs = pd.read_excel(dsn_excel, sheet_name=None)\n",
    "\n",
    "def print_data_frames(dfs, verbose=False):\n",
    "    for (df_name, df) in dfs.items():\n",
    "        if verbose:\n",
    "            print(df_name + '_'*(100-len(df_name)))\n",
    "            print(df.head(5), '\\n')\n",
    "        else:\n",
    "            print(f\"{df_name:15}   [{str(df.columns)}]\")\n",
    "            \n",
    "print_data_frames(dsn_dfs)\n"
   ]
  },
  {
   "cell_type": "code",
   "execution_count": 66,
   "metadata": {},
   "outputs": [],
   "source": [
    "class Block:\n",
    "    id_blocks = {}\n",
    "    full_name_blocks = {}\n",
    "    \n",
    "    def __init__(self, id, name, description='', lower_bound=1, upper_bound=1):\n",
    "        self.id = id\n",
    "        self.name = name\n",
    "        self.full_name = name\n",
    "        self.description = description\n",
    "        self.lower_bound = lower_bound\n",
    "        self.upper_bound = upper_bound\n",
    "        self.description = description\n",
    "        self.children = []\n",
    "        self.rubriques = []\n",
    "        Block.id_blocks[id] = self\n",
    "        Block.full_name_blocks[name] = self\n",
    "        \n",
    "    def __repr__(self):\n",
    "        return f'[{self.id}] {self.name:44} ({str(self.lower_bound):s}, {str(self.upper_bound):s})'\n",
    "    \n",
    "    def append(self, id, name, description='', lower_bound=1, upper_bound=1):\n",
    "        self.children.append(Block(id, name, description, lower_bound, upper_bound))\n",
    "        \n",
    "    @classmethod\n",
    "    def append_in_parent(cls, id_parent, id, name, description='', lower_bound=1, upper_bound=1):\n",
    "        cls.id_blocks[id_parent].append(id, name, description, lower_bound, upper_bound)\n",
    "    \n",
    "    @classmethod\n",
    "    def append_rubrique(cls, id_block, id, name, full_name, description, id_data_type):\n",
    "        i = name.find('.')\n",
    "        name_rubrique = name[i+1:]\n",
    "        name_block = name[:i]\n",
    "        cls.id_blocks[id_block].name = name_block\n",
    "        cls.id_blocks[id_block].rubriques.append(Rubrique(id_block, id, name_rubrique, full_name, description, id_data_type))\n",
    "        \n",
    "    def deep_print(self, depth=0, print_rubriques=False):\n",
    "        print(' '*8*depth + ('' if not depth else'└─ ') + repr(self)) # '├─ '\n",
    "        [print(' '*8*depth + '   > ' + repr(r)) for r in self.rubriques if print_rubriques]\n",
    "        [b.deep_print(depth+1, print_rubriques) for b in self.children] \n",
    "            \n",
    "class Rubrique:\n",
    "    id_rubriques = {}\n",
    "    name_rubriques = {}\n",
    "    \n",
    "    def __init__(self, id_block, id, name, full_name, description, id_data_type):\n",
    "        self.id = id\n",
    "        self.name = name\n",
    "        self.full_name =  full_name\n",
    "        self.description = description\n",
    "        self.id_data_type = id_data_type\n",
    "        self.id_block = id_block\n",
    "        Rubrique.id_rubriques[id_block+str(id)] = self\n",
    "        Rubrique.name_rubriques[name] = self\n",
    "    \n",
    "    def __repr__(self):\n",
    "        return f\"{'['+str(self.id)+']':5} {self.name:40}\"\n",
    "    \n",
    "    def deep_print(self, depth=0, print_rubriques=False, last_children=False):\n",
    "        print(' '*8*depth + ('' if not depth else('└─ ' if last_children else '└─ ')) + repr(self)) # '├─ '\n",
    "        \n",
    "        for b in self.children:\n",
    "            b.deep_print(depth+1, last_children=b==self.children[-1])\n",
    "            \n",
    "    def data_type(self):\n",
    "        return DataType.id_data_types[self.id_data_type]\n",
    "            \n",
    "class DataType:\n",
    "    id_data_types = {}\n",
    "    \n",
    "    def __init__(self, id, nature, regex, lg_min, lg_max, values):\n",
    "        self.id = id\n",
    "        self.nature = nature\n",
    "        self.regex = regex\n",
    "        self.lg_min, self.lg_max = lg_min, lg_max\n",
    "        self.values = [tuple(v.split('=')) for v in values.split(';')] if values is not np.nan else []\n",
    "        DataType.id_data_types[id] = self\n",
    "        \n",
    "class RubriqueConf:\n",
    "    \n",
    "    def __init__(self, rubrique, is_included_by_default=True, use_default_value=False, default_value=''):\n",
    "        self.rubrique = rubrique\n",
    "        self.is_included_by_default = is_included_by_default\n",
    "        self.use_default_value = use_default_value\n",
    "        self.default_value = default_value\n",
    "        \n",
    "class RubriqueValue:\n",
    "    \n",
    "    def __init__(self, rubrique_conf, value='', is_included=None):\n",
    "        self.rubrique_conf = rubrique_conf\n",
    "        if is_included is None:\n",
    "            self.is_included = rubrique_conf.is_included_by_default\n",
    "        else:\n",
    "            self.is_included = bool(is_included)\n",
    "        if value != '':\n",
    "            self.value = value\n",
    "        elif rubrique_conf.use_default_value:\n",
    "            self.value = rubrique_conf.default_value\n",
    "\n",
    "class BlockConf:\n",
    "    \n",
    "    def __init__(self, block):\n",
    "        self.block = block\n",
    "        self.rubriques = [RubriqueConf(r) for r in self.block.rubriques]\n",
    "        self.sub_blocks = [BlockConf(b)  for b in block.children]\n",
    "            \n",
    "class BlockValue:\n",
    "    \n",
    "    def __init__(self, block_conf, number=None):\n",
    "        self.block_conf = block_conf\n",
    "        instances = []\n",
    "        if number is None:\n",
    "            self.number = self.block.lower_bound\n",
    "        else:\n",
    "            self.number = number\n",
    "        for i in range(number):\n",
    "            instances.append((create_instance_rubriques(), ))\n",
    "        \n",
    "    def create_instance_rubriques():\n",
    "        return [RubriqueValue(r) for r in self.block_conf.rubriques]\n",
    "    \n",
    "    def create_instance_sub_blocks():\n",
    "        return[BlockValue(b) for b in self.block_conf.sub_blocks]  "
   ]
  },
  {
   "cell_type": "code",
   "execution_count": 67,
   "metadata": {},
   "outputs": [
    {
     "data": {
      "text/plain": [
       "<__main__.BlockConf at 0x13ffba57f28>"
      ]
     },
     "execution_count": 67,
     "metadata": {},
     "output_type": "execute_result"
    }
   ],
   "source": [
    "BlockConf(root)\n",
    "\n"
   ]
  },
  {
   "cell_type": "code",
   "execution_count": 31,
   "metadata": {},
   "outputs": [],
   "source": [
    "root = Block(id='DSN', name='DSN_Root')\n",
    "root.append('S10.G00.00', 'Envoi')\n",
    "root.append('S20.G00.05', 'Déclaration')\n",
    "root.append('S90.G00.90', \"Total de l'envoi\") \n",
    "\n",
    "df_blocks = dsn_dfs['Blocks']\n",
    "df_rubriques = dsn_dfs['Fields']\n",
    "df_data_type = dsn_dfs['Data Types']\n",
    "\n",
    "fd_blocks_index_mapping = {'Id':'id', 'Name':'name', 'ParentId':'id_parent', 'lowerBound':'lower_bound', \n",
    "                           'upperBound':'upper_bound', 'Description':'description'}\n",
    "for index, row in df_blocks.iterrows():\n",
    "    args = {fd_blocks_index_mapping[key]:value for key, value in row.items()}\n",
    "    Block.append_in_parent(**args)\n",
    "    \n",
    "fd_rubriques_index_mapping = {'Block Id':'id_block', 'Id':'id', 'Name':'full_name', 'Description':'description',\n",
    "                              'DataType Id':'id_data_type', 'Comment':'name'}\n",
    "for index, row in df_rubriques.iterrows():\n",
    "    args = {fd_rubriques_index_mapping[key]:value for key, value in row.items()}\n",
    "    Block.append_rubrique(**args)\n",
    "    \n",
    "fd_data_type_index_mapping = {'Id':'id', 'Nature':'nature', 'Regexp':'regex', \n",
    "                              'Lg Min':'lg_min', 'Lg Max':'lg_max', 'Values':'values'}\n",
    "for index, row in df_data_type.iterrows():\n",
    "    args = {fd_data_type_index_mapping[key]:value for key, value in row.items()}\n",
    "    DataType(**args)\n"
   ]
  },
  {
   "cell_type": "code",
   "execution_count": 59,
   "metadata": {},
   "outputs": [
    {
     "data": {
      "text/plain": [
       "\"\\nprint('Block name max lenght')\\nmax_lenght_block = max(len(i.name) for i in Block.id_blocks.values())\\n[print(i, max_lenght_block) for i in Block.id_blocks.values() if len(i.name) == max_lenght_block]\\nprint('\\nRubrique name max lenght')\\nmax_lenght_rub = max(len(i.name) for i in Rubrique.id_rubriques.values())\\n[print(i, max_lenght_rub) for i in Rubrique.id_rubriques.values() if len(i.name) == max_lenght_rub]\\n\""
      ]
     },
     "execution_count": 59,
     "metadata": {},
     "output_type": "execute_result"
    }
   ],
   "source": [
    "'''\n",
    "print('Block name max lenght')\n",
    "max_lenght_block = max(len(i.name) for i in Block.id_blocks.values())\n",
    "[print(i, max_lenght_block) for i in Block.id_blocks.values() if len(i.name) == max_lenght_block]\n",
    "print('\\nRubrique name max lenght')\n",
    "max_lenght_rub = max(len(i.name) for i in Rubrique.id_rubriques.values())\n",
    "[print(i, max_lenght_rub) for i in Rubrique.id_rubriques.values() if len(i.name) == max_lenght_rub]\n",
    "'''\n",
    "# root.deep_print(print_rubriques=False)"
   ]
  },
  {
   "cell_type": "code",
   "execution_count": 45,
   "metadata": {},
   "outputs": [],
   "source": [
    "from PyQt5.QtWidgets import *\n",
    "\n",
    "class BlockFrame(QWidget):\n",
    "    \n",
    "    def __init__(self, layout, block, depth=0):\n",
    "        super().__init__()\n",
    "        \n",
    "        #self.frame.resize(300, 36)\n",
    "        #self.resize(300+20*depth, 54)\n",
    "        \n",
    "        self.frame = QFrame()\n",
    "        self.frame.setFrameStyle(QFrame.Panel | QFrame.Raised)\n",
    "        self.frame.setLineWidth(2)\n",
    "        cb = QCheckBox()\n",
    "        la = QLabel()\n",
    "        la.setText(repr(block))\n",
    "        la.setMaximumWidth (400)\n",
    "        \n",
    "        frameLayout = QHBoxLayout()\n",
    "        #frameLayout.setContentsMargins(0, 0, 0, 0)\n",
    "        frameLayout.addWidget(cb)\n",
    "        frameLayout.addWidget(la)\n",
    "        #frameLayout.addStretch()\n",
    "        self.frame.setLayout(frameLayout)\n",
    "        \n",
    "        self.layout = QHBoxLayout()\n",
    "        self.layout.setContentsMargins(0, 0, 0, 0)\n",
    "        self.layout.addSpacing(depth*20)\n",
    "        self.layout.addWidget(self.frame) \n",
    "        self.layout.addStretch()\n",
    "        self.setLayout(self.layout)\n",
    "        layout.addWidget(self)\n",
    "        for sub_block in block.children: \n",
    "                BlockFrame(layout, sub_block, depth+1)\n"
   ]
  },
  {
   "cell_type": "code",
   "execution_count": 46,
   "metadata": {},
   "outputs": [
    {
     "data": {
      "text/plain": [
       "0"
      ]
     },
     "execution_count": 46,
     "metadata": {},
     "output_type": "execute_result"
    }
   ],
   "source": [
    "import sys\n",
    "from PyQt5.QtWidgets import *\n",
    "app=QApplication.instance() # checks if QApplication already exists \n",
    "if not app: # create QApplication if it doesnt exist \n",
    "     app = QApplication(sys.argv)\n",
    "mainWindow = QMainWindow()\n",
    "mainWindow.resize(1200, 800)\n",
    "sa = QScrollArea()\n",
    "#sa.setGeometry(20, 20, 1160, 760)\n",
    "sa.setWidgetResizable(True)\n",
    "sa.setFrameStyle(QFrame.NoFrame)\n",
    "mainWindow.setCentralWidget(sa)\n",
    "#saLayout = QHBoxLayout()\n",
    "#saLayout.addWidget(sa)\n",
    "#mainWindow.setLayout(saLayout)\n",
    "\n",
    "w = QWidget()\n",
    "#w.resize(2600, 800)\n",
    "sa.setWidget(w)\n",
    "\n",
    "wLayout = QVBoxLayout()\n",
    "#wLayout.setContentsMargins(0, 0, 0, 0)\n",
    "\n",
    "\n",
    "\n",
    "b = BlockFrame(wLayout, root.children[1], 0)\n",
    "wLayout.addStretch()\n",
    "w.setLayout(wLayout)\n",
    "mainWindow.show()\n",
    "app.exec_()\n"
   ]
  },
  {
   "cell_type": "code",
   "execution_count": 57,
   "metadata": {},
   "outputs": [
    {
     "name": "stdout",
     "output_type": "stream",
     "text": [
      "Block name max lenght\n",
      "[S21.G00.16] ChangementsDestinataireAdhesionPrevoyance    (0, *) 41\n",
      "\n",
      "Rubrique name max lenght\n",
      "[63]  FPIndiceBrutOrigineAncienSalarieEmployeurPublic 47\n",
      "[65]  FPMaintienTraitementOrigineContractuelTitulaire 47\n",
      "[42]  FPMaintienTraitementOrigineContractuelTitulaire 47\n"
     ]
    },
    {
     "data": {
      "text/plain": [
       "[None, None, None]"
      ]
     },
     "execution_count": 57,
     "metadata": {},
     "output_type": "execute_result"
    }
   ],
   "source": [
    "\n",
    "\n"
   ]
  },
  {
   "cell_type": "code",
   "execution_count": 51,
   "metadata": {},
   "outputs": [
    {
     "data": {
      "text/plain": [
       "dict_values([[1]   NomLogiciel                             , [2]   EditeurLogiciel                         , [3]   VersionLogiciel                         , [4]   CodeConformite                          , [5]   EssaiReel                               , [6]   VersionNorme                            , [7]   Depot                                   , [8]   Type                                    , [1]   Siren                                   , [2]   Nic                                     , [3]   Nom                                     , [4]   Voie                                    , [5]   CodePostal                              , [6]   Localite                                , [7]   Pays                                    , [8]   CodeDistribution                        , [9]   ComplementConstruction                  , [10]  ComplementVoie                          , [1]   Civilite                                , [2]   Nom                                     , [4]   Mel                                     , [5]   Tel                                     , [6]   fax                                     , [1]   Nature                                  , [2]   Type                                    , [3]   Fraction                                , [4]   Ordre                                   , [5]   Mois                                    , [6]   IdentifiantAnnulation                   , [7]   DateFichier                             , [8]   Champ                                   , [9]   IdentifiantMetier                       , [10]  DeviseDeclaration                       , [1]   Nom                                     , [2]   Tel                                     , [3]   mel                                     , [4]   type                                    , [1]   CodeCaisse                              , [1]   Siren                                   , [2]   Nic                                     , [3]   Apen                                    , [4]   Voie                                    , [5]   CodePostal                              , [6]   Localite                                , [7]   ComplementConstruction                  , [8]   ComplementVoie                          , [9]   EffectifMoyen                           , [10]  CodePays                                , [11]  CodeDistribution                        , [12]  ImplantationEntreprise                  , [13]  DateDebutCvae                           , [14]  DateFinCvae                             , [1]   Nic                                     , [2]   Apet                                    , [3]   Voie                                    , [4]   CodePostal                              , [5]   Localite                                , [6]   ComplementConstruction                  , [7]   ComplementVoie                          , [8]   EffectifFinPeriode                      , [9]   RemunerationExpatries                   , [15]  CodePays                                , [16]  CodeDistribution                        , [17]  NatureJuridiqueEmployeur                , [19]  DateEffetAdhesionTESECEA                , [20]  DateSortieTESECEA                       , [1]   Reference                               , [2]   Organisme                               , [3]   Delegataire                             , [4]   PersonnelCouvert                        , [5]   IdentifiantTechniqueAdhesion            , [1]   DateModification                        , [2]   Organisme                               , [3]   Delegataire                             , [1]   Valeur                                  , [2]   CodeCotisation                          , [3]   RattachementDateDebutPeriode            , [4]   RattachementDateFinPeriode              , [5]   ReferenceReglementaireContractuelle     , [1]   IdentifiantOPS                          , [2]   EntiteAffectation                       , [3]   BIC                                     , [4]   IBAN                                    , [5]   Montant                                 , [6]   RattachementDateDebut                   , [7]   RattachementDateFin                     , [8]   CodeDelegataireGestion                  , [10]  ModePaiement                            , [11]  DatePaiement                            , [12]  SiretPayeur                             , [1]   MontantVerse                            , [2]   TypePopulation                          , [3]   CodeAffectation                         , [4]   PeriodeAffectation                      , [1]   IdentifiantOPS                          , [2]   EntiteAffectation                       , [3]   RattachementDateDebut                   , [4]   RattachementDateFin                     , [5]   Montant                                 , [1]   Identifiant                             , [2]   QualifiantAssiette                      , [3]   Taux                                    , [4]   MontantAssiette                         , [5]   MontantCotisation                       , [6]   CodeINSEEcommune                        , [1]   NicFiscal                               , [3]   Effectif                                , [4]   CodeInseeCommune                        , [5]   TypePersonnel                           , [6]   Millesime                               , [1]   CodeTaxe                                , [2]   Montant                                 , [3]   Millesime                               , [1]   Identifiant                             , [2]   NomFamille                              , [3]   NomUsage                                , [4]   Prenoms                                 , [5]   Sexe                                    , [6]   DateNaissance                           , [7]   LieuNaissance                           , [8]   Voie                                    , [9]   CodePostal                              , [10]  Localite                                , [11]  CodePays                                , [12]  CodeDistribution                        , [13]  CodificationUE                          , [14]  DepartementNaissance                    , [15]  PaysNaissance                           , [16]  ComplementConstruction                  , [17]  ComplementVoie                          , [18]  Mel                                     , [19]  Matricule                               , [20]  NTT                                     , [21]  NombreEnfantsCharge                     , [22]  StatutEtranger                          , [23]  CumulEmploiRetraite                     , [1]   DateModification                        , [8]   Identifiant                             , [9]   NomFamille                              , [10]  Prenoms                                 , [11]  DateNaissance                           , [1]   FacteurExposition                       , [2]   NumeroContrat                           , [3]   AnneeRattachement                       , [1]   DateDebut                               , [2]   StatutConventionnel                     , [3]   StatutRC                                , [4]   PcsEse                                  , [5]   ComplementPcsEse                        , [6]   LibelleEmploi                           , [7]   Nature                                  , [8]   DispositifPolitique                     , [9]   Numero                                  , [10]  DateFinPrevisionnelle                   , [11]  UniteMesure                             , [12]  QuotiteCategorie                        , [13]  Quotite                                 , [14]  ModaliteTemps                           , [16]  ComplementBase                          , [17]  Ccn                                     , [18]  RegimeMaladie                           , [19]  Lieutravail                             , [20]  RegimeVieillesse                        , [21]  MotifRecours                            , [22]  CodeCaisseCongesPayes                   , [23]  TauxFraisProfessionnels                 , [24]  TravailleurEtranger                     , [25]  MotifExclusionDSN                       , [26]  StatusEmploi                            , [27]  CodeAffectationAC                       , [28]  NumeroInterne                           , [29]  TypeGestionAC                           , [30]  DateAdhesion                            , [31]  DateDenonciation                        , [32]  DateConventionGestion                   , [33]  NumeroConventionGestion                 , [35]  CodeGestionnaireRisque                  , [36]  CodeEmploisMultiples                    , [37]  CodeEmployeursMultiples                 , [38]  CodeMetier                              , [39]  CodeRegimeRisqueAccidentTravail         , [40]  CodeRisqueAccidentTravail               , [41]  PositionnementConventionCollective      , [42]  CodeStatutCategorielAPECITA             , [43]  TauxAccidentTravail                     , [44]  SalarieTempsPartielCotisantTempsPlein   , [45]  RemunerationPourboire                   , [46]  SiretEtablissementUtilisateur           , [47]  NumeroCertificationSociale              , [48]  NumeroLabel                             , [49]  NumeroLicenceEntrepreneurSpectacle      , [50]  NumeroObjetSpectacle                    , [51]  StatutOrganisateurSpectacle             , [52]  FPCodeComplementPCS-ES                  , [53]  FPNaturePoste                           , [54]  FPQuotiteTravailTempsComplet            , [55]  TauxTravailTempsPartiel                 , [56]  FPCodeCategorieService                  , [57]  FPIndiceBrut                            , [58]  FPIndiceMajore                          , [59]  FPNBI                                   , [60]  FPIndiceBrutOrigine                     , [61]  FPIndiceBrutCotisationEmploiSuperieur   , [62]  FPAncienEmployeurPublic                 , [63]  FPIndiceBrutOrigineAncienSalarieEmployeurPublic, [64]  FPIndiceBrutOrigineSPP                  , [65]  FPMaintienTraitementOrigineContractuelTitulaire, [66]  FPTypeDetachement                       , [1]   DateModification                        , [2]   StatutConventionnel                     , [3]   StatutRC                                , [4]   Nature                                  , [5]   DispositifPolitique                     , [6]   UniteMesure                             , [7]   QuotiteSalarie                          , [8]   ModaliteTemps                           , [10]  ComplementBase                          , [11]  Ccn                                     , [12]  AncienEmplSiret                         , [13]  ChangementSiret                         , [14]  Numero                                  , [16]  MotifRecours                            , [17]  TauxFraisProfessionnels                 , [18]  TravailleurEtranger                     , [19]  PcsEse                                  , [20]  ComplementPcsEse                        , [21]  DateDebut                               , [22]  QuotiteCategorie                        , [23]  CodeCaisseCongesPayes                   , [24]  CodeRisqueAccidentTravail               , [25]  CodeStatutCategorielAPECITA             , [27]  SalarieTempsPartielCotisantTempsPlein   , [28]  ProfondeurRecalculPaie                  , [29]  FPCodeComplementPCS-ES                  , [30]  FPNaturePoste                           , [31]  FPQuotiteTravailTempsComplet            , [32]  TauxTravailTempsPartiel                 , [33]  FPCodeCategorieService                  , [34]  FPIndiceBrut                            , [35]  FPIndiceMajore                          , [36]  FPNBI                                   , [37]  FPIndiceBrutOrigine                     , [38]  FPIndiceBrutCotisationEmploiSuperieur   , [39]  FPAncienEmployeurPublic                 , [40]  FPIndiceBrutOrigineAncienEmployeurPublic, [41]  FPIndiceBrutOrigineSPP                  , [42]  FPMaintienTraitementOrigineContractuelTitulaire, [1]   Motif                                   , [2]   DernierJour                             , [3]   DateFinPrevisionnelle                   , [4]   Subrogation                             , [5]   SubrogationDateDebut                    , [6]   SubrogationDateFin                      , [7]   Iban                                    , [8]   Bic                                     , [10]  RepriseDate                             , [11]  RepriseMotif                            , [12]  DateAccident                            , [600] SiretCentralisateur                     , [1]   DateDebut                               , [2]   DateFin                                 , [3]   Montant                                 , [1]   DateFin                                 , [2]   Motif                                   , [3]   DateNotificationRupture                 , [4]   DateConvention                          , [5]   DateLicenciement                        , [6]   Djtp                                    , [8]   Transaction                             , [11]  DureePreavis                            , [13]  MontantIndemnite                        , [14]  StatutParticulier                       , [16]  MaintienAffiliationCC                   , [17]  ModeFinCDDU                             , [18]  NombreMoisPréavisPAP                    , [1]   Type                                    , [2]   DateDebut                               , [3]   DateFin                                 , [1]   Motif                                   , [2]   DateDebut                               , [3]   DateFin                                 , [4]   FPPositionDétachement                   , [4]   Option                                  , [5]   Population                              , [7]   NombreEnfantsCharge                     , [8]   NombreAyantsDroitAdultes                , [9]   NombreAyantsDroit                       , [10]  NombreAyantsDroitAutres                 , [11]  NombreAyantsDroitEnfants                , [12]  IdentifiantTechniqueAffiliation         , [13]  IdentifiantTechniqueAdhesion            , [14]  DateDebut                               , [15]  DateFin                                 , [1]   RegimeAlsaceMoselle                     , [2]   CodeOption                              , [3]   Type                                    , [4]   DateDebutRattachementOuvrantDroit       , [5]   DateNaissance                           , [6]   NomFamille                              , [7]   Nir                                     , [8]   NirOuvrantDroitRegimeBaseMaladie        , [9]   Prenoms                                 , [10]  CodeOrganismeAffiliationAssuranceMaladie, [11]  DateFinRattachementOuvrantDroit         , [2]   CodeRetraiteComplementaire              , [3]   ReferenceAdhesionEmployeur              , [1]   Date                                    , [2]   NetFiscal                               , [3]   Numero                                  , [4]   NetVersé                                , [5]   NetFiscalPotentielle                    , [6]   TauxPAS                                 , [7]   TypeTauxPAS                             , [8]   IdTauxPAS                               , [9]   MontantPAS                              , [1]   DateDebut                               , [2]   DateFin                                 , [10]  NumeroContrat                           , [11]  Type                                    , [12]  NombreHeures                            , [13]  Montant                                 , [14]  FPTauxRemunerationdelapositionstatutaire, [1]   Type                                    , [2]   Mesure                                  , [3]   UniteMesure                             , [1]   Type                                    , [2]   Montant                                 , [3]   RattachementDateDebut                   , [4]   RattachementDateFin                     , [6]   ContratNumero                           , [7]   ContratNumero.DateVersementOrigine      , [1]   Type                                    , [2]   Montant                                 , [3]   RattachementDateDebut                   , [4]   RattachementDateFin                     , [1]   Codedebaseassujettie                    , [2]   RattachementDateDebut                   , [3]   RattachementDateFin                     , [4]   Montant                                 , [5]   IdentifiantTechniqueAffiliation         , [6]   Numero                                  , [1]   Type                                    , [4]   Montant                                 , [1]   CodeCotisation                          , [2]   IdentifiantOPS                          , [3]   MontantAssiette                         , [4]   MontantRéductionExonération             , [5]   CodeINSEECommune                        , [1]   MoisErreur                              , [2]   TypeErreur                              , [3]   RegulRemunerationNette                  , [4]   RemunerationNette                       , [5]   RegulTauxPAS                            , [6]   TauxDeclare                             , [7]   MontantRegulPAS                         , [1]   Type                                    , [2]   UniteMesure                             , [3]   Valeur                                  , [5]   NumeroContrat                           , [1]   Identifiant                             , [2]   Apet                                    , [3]   Voie                                    , [4]   CodePostal                              , [5]   Localite                                , [6]   Pays                                    , [7]   CodeDistribution                        , [8]   ComplementConstruction                  , [9]   ComplementVoie                          , [10]  Nature                                  , [11]  CodeINSEEcommune                        , [1]   ProfessionQualite                       , [2]   Nom                                     , [3]   Prenom                                  , [4]   Siren                                   , [5]   Nic                                     , [6]   RaisonSocial                            , [7]   ComplementLocalisation                  , [8]   NumeroExtensionNatureLibelle            , [9]   CodeInsee                               , [10]  ServiceDistribution                     , [11]  CodePostal                              , [12]  Localite                                , [13]  CodePays                                , [14]  CodeDistributionEtranger                , [15]  CodeTauxReduitDispense                  , [16]  MontantTva                              , [17]  Millésimederattachement                 , [1]   CodeTypeAvantage                        , [2]   MontantAvantage                         , [1]   CodeModaliteIndemnites                  , [2]   MontantIndemnites                       , [1]   Code                                    , [2]   Montant                                 , [1]   CodeContexte                            , [2]   NombreActions                           , [3]   ValeurUnitaireAction                    , [4]   FractionGainAcquisitionFr               , [5]   DateAttribution                         , [6]   DateAcquisitionDefinitive               , [7]   Identifiant                             , [8]   NTT                                     , [1]   CodeContexte                            , [2]   NombreOptions                           , [3]   ValeurUnitaireAction                    , [4]   PrixSouscriptionTitres                  , [5]   FractionGain                            , [6]   DateAttribution                         , [7]   DateLeveeOption                         , [8]   Identifiant                             , [9]   NTT                                     , [1]   NombreTitres                            , [2]   PrixAcquisitionTitres                   , [3]   ValeurUnitaireTitres                    , [4]   FractionGain                            , [5]   DateAcquisitionTitres                   , [6]   DureeExerciceActivite                   , [7]   Identifiant                             , [8]   NTT                                     , [1]   Identifiant                             , [2]   NomFamille                              , [3]   NomUsage                                , [4]   Prenoms                                 , [5]   Sexe                                    , [6]   DateNaissance                           , [7]   LieuNaissance                           , [8]   Voie                                    , [9]   CodePostal                              , [10]  Localite                                , [11]  CodePays                                , [12]  CodeDistribution                        , [13]  ComplementConstruction                  , [14]  ComplementVoie                          , [15]  Mel                                     , [16]  Matricule                               , [17]  StatutConventionnel                     , [18]  StatutRetraiteComplementaire            , [19]  CodeDepartementNaissance                , [20]  CodePaysNaissance                       , [21]  NTT                                     , [1]   Type                                    , [2]   CodeBaseSpecifique                      , [3]   Montant                                 , [4]   DateDebutPeriodeRattachement            , [5]   DateFinPeriodeRattachement              , [6]   NetFiscalVerse                          , [7]   TauxPAS                                 , [8]   TypeTauxPAS                             , [9]   IdTauxPAS                               , [10]  MontantPAS                              , [11]  VersementDate                           , [1]   MoisErreur                              , [2]   TypeErreur                              , [3]   RegulMontantPAS                         , [4]   MontantPAS                              , [5]   RegulTauxPAS                            , [6]   TauxDeclare                             , [7]   MontantRegulPAS                         , [1]   CodeCotisation                          , [2]   MontantCotisation                       , [1]   nbTotal                                 , [2]   nbDSN                                   ])"
      ]
     },
     "execution_count": 51,
     "metadata": {},
     "output_type": "execute_result"
    }
   ],
   "source": [
    "Rubrique.id_rubriques.values()"
   ]
  },
  {
   "cell_type": "code",
   "execution_count": 41,
   "metadata": {},
   "outputs": [],
   "source": [
    "\n",
    "def window():\n",
    "    app=QApplication.instance() # checks if QApplication already exists \n",
    "    if not app: # create QApplication if it doesnt exist \n",
    "            app = QApplication(sys.argv)\n",
    "    win = QWidget()\n",
    "    b1 = QPushButton(\"Button1\")\n",
    "    b2 = QPushButton(\"Button2\")\n",
    "\n",
    "    vbox = QVBoxLayout()\n",
    "    vbox.addSpacing(100)\n",
    "    vbox.addWidget(b1)\n",
    "    vbox.addStretch()\n",
    "    vbox.addWidget(b2)\n",
    "    win.setLayout(vbox)\n",
    "\n",
    "    win.setWindowTitle(\"PyQt\")\n",
    "    win.show()\n",
    "    app.exec_()\n",
    "\n",
    "window()"
   ]
  },
  {
   "cell_type": "code",
   "execution_count": 62,
   "metadata": {},
   "outputs": [],
   "source": [
    "l = []\n",
    "l.append((2,3))"
   ]
  },
  {
   "cell_type": "code",
   "execution_count": 63,
   "metadata": {},
   "outputs": [
    {
     "data": {
      "text/plain": [
       "[(2, 3)]"
      ]
     },
     "execution_count": 63,
     "metadata": {},
     "output_type": "execute_result"
    }
   ],
   "source": [
    "l"
   ]
  },
  {
   "cell_type": "code",
   "execution_count": null,
   "metadata": {},
   "outputs": [],
   "source": []
  }
 ],
 "metadata": {
  "kernelspec": {
   "display_name": "Python 3",
   "language": "python",
   "name": "python3"
  },
  "language_info": {
   "codemirror_mode": {
    "name": "ipython",
    "version": 3
   },
   "file_extension": ".py",
   "mimetype": "text/x-python",
   "name": "python",
   "nbconvert_exporter": "python",
   "pygments_lexer": "ipython3",
   "version": "3.6.4"
  }
 },
 "nbformat": 4,
 "nbformat_minor": 2
}
